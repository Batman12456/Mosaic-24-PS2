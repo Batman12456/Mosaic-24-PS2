{
  "cells": [
    {
      "cell_type": "markdown",
      "metadata": {
        "id": "9mLgGac7xxMn"
      },
      "source": [
        "# **Tensor Manipulation in Pytorch**"
      ]
    },
    {
      "cell_type": "markdown",
      "metadata": {},
      "source": [
        "<a target=\"_blank\" href=\"https://colab.research.google.com/github/patrick-batman/Mosaic-24/blob/main/workshop3-pytorch/Workshop_3_NN_MOASIC'24.ipynb\">\n",
        "  <img src=\"https://colab.research.google.com/assets/colab-badge.svg\" alt=\"Open In Colab\"/>\n",
        "</a>"
      ]
    },
    {
      "cell_type": "markdown",
      "metadata": {
        "id": "ibd3iOTyzjVh"
      },
      "source": [
        "### **Tensor Initialization**"
      ]
    },
    {
      "cell_type": "code",
      "execution_count": null,
      "metadata": {
        "colab": {
          "base_uri": "https://localhost:8080/"
        },
        "id": "zCBg5JdZxkO6",
        "outputId": "a763ffe6-ec8a-4782-fd1d-a1191dc1313f"
      },
      "outputs": [],
      "source": [
        "import torch\n",
        "\n",
        "if torch.cuda.is_available():\n",
        "  device = \"cuda\"\n",
        "elif torch.backends.mps.is_available():\n",
        "  device = \"mps\"\n",
        "else:\n",
        "  device = \"cpu\"\n",
        "  \n",
        "print(device)"
      ]
    },
    {
      "cell_type": "code",
      "execution_count": null,
      "metadata": {
        "colab": {
          "base_uri": "https://localhost:8080/"
        },
        "id": "XP0pRJUUx9ap",
        "outputId": "12a19635-5fc1-4b16-e8ec-5409dc1284ae"
      },
      "outputs": [],
      "source": [
        "my_tensor = torch.tensor([[1,2,3] ,\n",
        "                          [4,5,6]] , dtype= torch.float32, device=device , requires_grad=True )\n",
        "\n",
        "print(my_tensor)\n",
        "print(my_tensor.dtype)\n",
        "print(my_tensor.device)\n",
        "print(my_tensor.shape)\n",
        "print(my_tensor.requires_grad)"
      ]
    },
    {
      "cell_type": "code",
      "execution_count": null,
      "metadata": {
        "colab": {
          "base_uri": "https://localhost:8080/"
        },
        "id": "_e3mM_r8yAIG",
        "outputId": "e9a5455a-7975-417a-c3d7-888551f1ee26"
      },
      "outputs": [],
      "source": [
        "x = torch.empty(size=(3,3)) #uninitialized\n",
        "# x = torch.zeros((3,3)) #zeroes\n",
        "# x = torch.rand((3,3)) #random values(gaussian)\n",
        "# x = torch.ones((3,3)) #all ones\n",
        "# x = torch.eye(3)\n",
        "print(x)"
      ]
    },
    {
      "cell_type": "code",
      "execution_count": null,
      "metadata": {
        "colab": {
          "base_uri": "https://localhost:8080/"
        },
        "id": "ykBQyV1iylOk",
        "outputId": "23a73b24-39a8-4b39-c089-2d11c022cbbc"
      },
      "outputs": [],
      "source": [
        "x = torch.empty(size=(1,5)).normal_(mean=0 , std=1)\n",
        "print(x)\n",
        "x = torch.empty(size=(1,5)).uniform_(0,1)\n",
        "print(x)"
      ]
    },
    {
      "cell_type": "code",
      "execution_count": null,
      "metadata": {
        "colab": {
          "base_uri": "https://localhost:8080/"
        },
        "id": "vDypIN9Zyvu6",
        "outputId": "34883210-6eff-47ad-a1e2-c7beb6778131"
      },
      "outputs": [],
      "source": [
        "import numpy as np\n",
        "np_array = np.zeros((5,5))\n",
        "print(np_array)\n",
        "tensor = torch.from_numpy(np_array)\n",
        "print(tensor)\n",
        "np_array_back = tensor.numpy()\n",
        "print(np_array_back)"
      ]
    },
    {
      "cell_type": "markdown",
      "metadata": {
        "id": "OCcLKBcazr6L"
      },
      "source": [
        "### **Tensor Math**"
      ]
    },
    {
      "cell_type": "code",
      "execution_count": null,
      "metadata": {
        "id": "RnCmU93uzyQY"
      },
      "outputs": [],
      "source": [
        "x = torch.tensor([1, 2, 3])\n",
        "y = torch.tensor([9, 8, 7])"
      ]
    },
    {
      "cell_type": "code",
      "execution_count": null,
      "metadata": {
        "colab": {
          "base_uri": "https://localhost:8080/"
        },
        "id": "IjRyPJ4Bz0Gl",
        "outputId": "783d2a04-2e14-47c1-94a6-65ab997d9d7f"
      },
      "outputs": [],
      "source": [
        "z = torch.add(x,y)\n",
        "print(z)"
      ]
    },
    {
      "cell_type": "code",
      "execution_count": null,
      "metadata": {
        "colab": {
          "base_uri": "https://localhost:8080/"
        },
        "id": "gWZOc2yTz0Tl",
        "outputId": "ac8715a3-2214-4dd4-85ce-d7987207532c"
      },
      "outputs": [],
      "source": [
        "z = x+y\n",
        "print(z)"
      ]
    },
    {
      "cell_type": "code",
      "execution_count": null,
      "metadata": {
        "colab": {
          "base_uri": "https://localhost:8080/"
        },
        "id": "xhUe0cCZz0e1",
        "outputId": "9d8aacfd-e0ca-4fbd-b2ba-1d2a0e42bd23"
      },
      "outputs": [],
      "source": [
        "#  division\n",
        "\n",
        "z = torch.true_divide(x, y)\n",
        "# if x and y are of same shape, each element is divided by corresponding element\n",
        "print(z)\n",
        "\n",
        "print(torch.true_divide(x, 2))\n",
        "# each element of x is divided by 2"
      ]
    },
    {
      "cell_type": "code",
      "execution_count": null,
      "metadata": {
        "id": "RqHrEgZoz04a"
      },
      "outputs": [],
      "source": [
        "# inplace operations\n",
        "t = torch.zeros(3)\n",
        "t.add_(x)\n",
        "# any operation followd by _ means it is done inplace\n",
        "\n",
        "t += x #inplace\n",
        "t = t+x  #it is not inplace, it creates a copy first"
      ]
    },
    {
      "cell_type": "code",
      "execution_count": null,
      "metadata": {
        "colab": {
          "base_uri": "https://localhost:8080/"
        },
        "id": "yTvPs4fe0Q9Y",
        "outputId": "34849596-d167-4a74-9551-b8687c0c7859"
      },
      "outputs": [],
      "source": [
        "# exponentiation\n",
        "z = x.pow(2)\n",
        "print(z)\n",
        "\n",
        "z =  x**2\n",
        "print(z)"
      ]
    },
    {
      "cell_type": "code",
      "execution_count": null,
      "metadata": {
        "colab": {
          "base_uri": "https://localhost:8080/"
        },
        "id": "OCn-3I8f0Tsg",
        "outputId": "056c3c02-b9c8-4c5c-bc6a-7d09eb7626b6"
      },
      "outputs": [],
      "source": [
        "# Simple Comparision\n",
        "z = x > 0\n",
        "print(z)"
      ]
    },
    {
      "cell_type": "code",
      "execution_count": null,
      "metadata": {
        "colab": {
          "base_uri": "https://localhost:8080/"
        },
        "id": "AFmUUh-U0aK1",
        "outputId": "bf84093d-5aa8-46bc-fbdd-eb430ebc8743"
      },
      "outputs": [],
      "source": [
        "#Matrix Multiplication\n",
        "\n",
        "x1 = torch.rand((2,5)) # 2x5\n",
        "x2 = torch.rand((5,3)) # 5x3\n",
        "\n",
        "x3 = torch.mm(x1, x2) # 2x3\n",
        "print(x3)\n",
        "\n",
        "x3 = x1 @ x2\n",
        "print(x3)\n",
        "\n",
        "x3 = x1.mm(x2)\n",
        "print(x3)"
      ]
    },
    {
      "cell_type": "code",
      "execution_count": null,
      "metadata": {
        "colab": {
          "base_uri": "https://localhost:8080/"
        },
        "id": "1mxJ67sA0a6-",
        "outputId": "9241626c-9964-478d-a4bb-1e55701b47f6"
      },
      "outputs": [],
      "source": [
        "# Matrix Exponentiation\n",
        "\n",
        "Q = torch.rand((5,5))\n",
        "print(Q.matrix_power(3))"
      ]
    },
    {
      "cell_type": "code",
      "execution_count": null,
      "metadata": {
        "colab": {
          "base_uri": "https://localhost:8080/"
        },
        "id": "9KIab7JI0boc",
        "outputId": "b464d6a6-0af8-44be-bef1-4a878dc30cd6"
      },
      "outputs": [],
      "source": [
        "# Element wise multiplication\n",
        "\n",
        "z = x * y\n",
        "print(x)\n",
        "print(y)\n",
        "print(z)"
      ]
    },
    {
      "cell_type": "code",
      "execution_count": null,
      "metadata": {
        "colab": {
          "base_uri": "https://localhost:8080/"
        },
        "id": "HgCQHrvA0blH",
        "outputId": "ce489b62-5e2c-4679-b8f7-778790550e86"
      },
      "outputs": [],
      "source": [
        "# Dot product\n",
        "z = torch.dot(x,y)\n",
        "print(z)\n",
        "\n",
        "z = x @ y\n",
        "print(z)"
      ]
    },
    {
      "cell_type": "code",
      "execution_count": null,
      "metadata": {
        "colab": {
          "base_uri": "https://localhost:8080/"
        },
        "id": "0_ArF3wb0biI",
        "outputId": "0dfcac22-c21c-4db4-83ba-1910f2ce90e3"
      },
      "outputs": [],
      "source": [
        "# Batch matrix multiplication\n",
        "batch = 32\n",
        "n = 10\n",
        "m = 20\n",
        "p = 30\n",
        "\n",
        "tensor1 = torch.rand((batch, n, m))\n",
        "tensor2 = torch.rand((batch, m, p))\n",
        "\n",
        "torch.bmm(tensor1 , tensor2).size() # (batch , n , p)"
      ]
    },
    {
      "cell_type": "markdown",
      "metadata": {
        "id": "N2tsyfqxdK0U"
      },
      "source": [
        "## Broadcasting\n",
        "It is is one of the most interesting topics in any tensor based framework. For more practice; checkout [Tensor-puzzles](https://github.com/srush/Tensor-Puzzles)."
      ]
    },
    {
      "cell_type": "code",
      "execution_count": null,
      "metadata": {
        "colab": {
          "base_uri": "https://localhost:8080/"
        },
        "id": "h60cpWw30bfU",
        "outputId": "0f44a9de-e385-4e7f-e66a-f386b49e1496"
      },
      "outputs": [],
      "source": [
        "# Broadcasting\n",
        "\n",
        "x1 = torch.rand((5,5)) # 5x5\n",
        "x2 = torch.rand((1,5)) # 1x5\n",
        "\n",
        "print(x1)\n",
        "print(x2)\n",
        "\n",
        "z = x1 - x2     # each row of x1 is subtracted by x2\n",
        "print(z)\n",
        "\n",
        "Z = x1 ** x2   #each row of x1 is element wise raised tby x2\n"
      ]
    },
    {
      "cell_type": "code",
      "execution_count": null,
      "metadata": {
        "colab": {
          "base_uri": "https://localhost:8080/"
        },
        "id": "o8i4B3D11iAM",
        "outputId": "415061ec-136f-420e-d0fb-8213da3cead0"
      },
      "outputs": [],
      "source": [
        "print(x)\n",
        "sum_x = torch.sum(x , dim=0)\n",
        "print(sum_x)"
      ]
    },
    {
      "cell_type": "code",
      "execution_count": null,
      "metadata": {
        "colab": {
          "base_uri": "https://localhost:8080/"
        },
        "id": "jy8-9VSG1jPj",
        "outputId": "bee2e8f7-7db9-442f-94f2-96260cc60dba"
      },
      "outputs": [],
      "source": [
        "torch.max(x , dim=0)\n"
      ]
    },
    {
      "cell_type": "code",
      "execution_count": null,
      "metadata": {
        "colab": {
          "base_uri": "https://localhost:8080/"
        },
        "id": "CJP5O8Fd1jMd",
        "outputId": "c6eb1339-5653-41fa-c1e1-4a54beb7fd51"
      },
      "outputs": [],
      "source": [
        "print(x)\n",
        "values , indices = torch.min(x , dim = 0)\n",
        "print(values , indices)"
      ]
    },
    {
      "cell_type": "code",
      "execution_count": null,
      "metadata": {
        "colab": {
          "base_uri": "https://localhost:8080/"
        },
        "id": "q7E0Ww2u1jJy",
        "outputId": "ada4f354-793a-40cc-84cf-d74cd6ee5b50"
      },
      "outputs": [],
      "source": [
        "z = torch.argmax(x , dim=0)\n",
        "print(z)\n",
        "# return the index of max argument"
      ]
    },
    {
      "cell_type": "code",
      "execution_count": null,
      "metadata": {
        "colab": {
          "base_uri": "https://localhost:8080/"
        },
        "id": "Q6OgHTll1jG-",
        "outputId": "1a7856b2-0da9-4bc1-a86a-c79928094e18"
      },
      "outputs": [],
      "source": [
        "mean_x = torch.mean(x.float() , dim = 0)\n",
        "print(mean_x)\n"
      ]
    },
    {
      "cell_type": "code",
      "execution_count": null,
      "metadata": {
        "colab": {
          "base_uri": "https://localhost:8080/"
        },
        "id": "m9qdAOZS1jEJ",
        "outputId": "96fe0c1e-8d4b-4659-b1d9-bebbdcc00281"
      },
      "outputs": [],
      "source": [
        "print(y)\n",
        "sorted_y , indices = torch.sort(y , dim=0 , descending=False)\n",
        "print(sorted_y , indices)"
      ]
    },
    {
      "cell_type": "code",
      "execution_count": null,
      "metadata": {
        "colab": {
          "base_uri": "https://localhost:8080/"
        },
        "id": "H1aENLCB1jBP",
        "outputId": "9a178ff1-c5d7-46d3-f580-648de0b9fac4"
      },
      "outputs": [],
      "source": [
        "Q = torch.tensor([12, 15, 18])\n",
        "print(torch.clamp(Q , min=13))\n",
        "print(torch.clamp(Q , max=17))\n",
        "\n",
        "#set the max/min value in a tensor"
      ]
    },
    {
      "cell_type": "markdown",
      "metadata": {
        "id": "XnppFn7x2yQQ"
      },
      "source": [
        "### **Tensor Indexing**"
      ]
    },
    {
      "cell_type": "code",
      "execution_count": null,
      "metadata": {
        "id": "WplIJJ_s1i-j"
      },
      "outputs": [],
      "source": [
        "batch_size = 10\n",
        "features = 25\n",
        "x = torch.rand((batch_size , features))"
      ]
    },
    {
      "cell_type": "code",
      "execution_count": null,
      "metadata": {
        "colab": {
          "base_uri": "https://localhost:8080/"
        },
        "id": "L-4UDVrk26b8",
        "outputId": "e6e6eed1-9a36-4a3f-a0d0-04175a3d1702"
      },
      "outputs": [],
      "source": [
        "print(x[0].shape) # x[0,:]\n",
        "print(x[:, 0].shape)\n",
        "\n",
        "\n",
        "print(x.shape[0])\n",
        "print(x.shape[1])"
      ]
    },
    {
      "cell_type": "code",
      "execution_count": null,
      "metadata": {
        "colab": {
          "base_uri": "https://localhost:8080/"
        },
        "id": "XHkSlaCn26Yj",
        "outputId": "01ddd6bc-3fdd-4a2a-af7f-b2dbd9bf8f4f"
      },
      "outputs": [],
      "source": [
        "print(x)\n",
        "print(x[2 , 0:10])"
      ]
    },
    {
      "cell_type": "code",
      "execution_count": null,
      "metadata": {
        "colab": {
          "base_uri": "https://localhost:8080/"
        },
        "id": "Vr-XElsY26WE",
        "outputId": "9a15227f-1e72-4462-9474-0b3fa79887f9"
      },
      "outputs": [],
      "source": [
        "x = torch.arange(10)\n",
        "print(x)\n",
        "indices = [2,5,8]\n",
        "\n",
        "print(x[indices])"
      ]
    },
    {
      "cell_type": "code",
      "execution_count": null,
      "metadata": {
        "colab": {
          "base_uri": "https://localhost:8080/"
        },
        "id": "tsOzVZOL26Tb",
        "outputId": "6dcd4b6f-0e67-4a2c-81a7-0a07963d8742"
      },
      "outputs": [],
      "source": [
        "# advanced Indexing\n",
        "\n",
        "x = torch.arange(10)\n",
        "print(x)\n",
        "\n",
        "print( x[(x<2) | (x>8)] )\n",
        "print( x[(x<2) & (x>8)] )\n",
        "print( x[x.remainder(2) == 0] )"
      ]
    },
    {
      "cell_type": "code",
      "execution_count": null,
      "metadata": {
        "colab": {
          "base_uri": "https://localhost:8080/"
        },
        "id": "8dg82iDh26Qx",
        "outputId": "32524ece-322d-46b7-cb5e-85196b243f2c"
      },
      "outputs": [],
      "source": [
        "print(torch.where(x>5 , x , x*2))\n",
        "# if x>5 then x else x*2"
      ]
    },
    {
      "cell_type": "code",
      "execution_count": null,
      "metadata": {
        "colab": {
          "base_uri": "https://localhost:8080/"
        },
        "id": "uiSnb69k26OJ",
        "outputId": "2650dd3b-a785-4ff8-9e0f-b32916ad4ef4"
      },
      "outputs": [],
      "source": [
        "print(torch.tensor([0,0,1,2,2,3,4]).unique())"
      ]
    },
    {
      "cell_type": "markdown",
      "metadata": {
        "id": "98rqSZyA3lv2"
      },
      "source": [
        "### **Tensor Reshaping**"
      ]
    },
    {
      "cell_type": "code",
      "execution_count": null,
      "metadata": {
        "colab": {
          "base_uri": "https://localhost:8080/"
        },
        "id": "DefwXMDs26LO",
        "outputId": "dd099c1e-fb85-4526-e203-86a751073abd"
      },
      "outputs": [],
      "source": [
        "x = torch.arange(9)\n",
        "print(x)"
      ]
    },
    {
      "cell_type": "code",
      "execution_count": null,
      "metadata": {
        "colab": {
          "base_uri": "https://localhost:8080/"
        },
        "id": "btMVGdfZ26Ie",
        "outputId": "5b938bb3-f963-499f-e25c-7a22c2f0c18a"
      },
      "outputs": [],
      "source": [
        "x_3x3 = x.view(3,3)\n",
        "print(x_3x3)\n",
        "x_3x3_ = x.reshape(3,3)\n",
        "print(x_3x3_)\n",
        "\n",
        "# view acts on contiguous tensors\n",
        "# reshape -> does not matters -> always works but performance loss"
      ]
    },
    {
      "cell_type": "code",
      "execution_count": null,
      "metadata": {
        "colab": {
          "base_uri": "https://localhost:8080/"
        },
        "id": "QbcTr_103vwN",
        "outputId": "2b08738f-6592-46cb-9db4-d4ec15582b3b"
      },
      "outputs": [],
      "source": [
        "y = x_3x3.t()\n",
        "# transpose of a tensor\n",
        "print(y)"
      ]
    },
    {
      "cell_type": "code",
      "execution_count": null,
      "metadata": {
        "colab": {
          "base_uri": "https://localhost:8080/",
          "height": 208
        },
        "id": "dGxNb1TN3vlB",
        "outputId": "f854b58b-059e-4521-b416-e8aa62a0a92b"
      },
      "outputs": [],
      "source": [
        "y.view(9)\n",
        "# y is transpose of x and is not contiguous, so view() can not be used"
      ]
    },
    {
      "cell_type": "code",
      "execution_count": null,
      "metadata": {
        "colab": {
          "base_uri": "https://localhost:8080/"
        },
        "id": "2HXiTLDN3vIR",
        "outputId": "64c035ab-b710-445c-f330-18537e91a7fa"
      },
      "outputs": [],
      "source": [
        "y.reshape(9)"
      ]
    },
    {
      "cell_type": "code",
      "execution_count": null,
      "metadata": {
        "colab": {
          "base_uri": "https://localhost:8080/"
        },
        "id": "8r0VHMcj4GTG",
        "outputId": "92b02e2a-3dfc-4960-b063-f37634216e08"
      },
      "outputs": [],
      "source": [
        "y.contiguous().view(9)"
      ]
    },
    {
      "cell_type": "code",
      "execution_count": null,
      "metadata": {
        "colab": {
          "base_uri": "https://localhost:8080/"
        },
        "id": "ZMGckDY14GK6",
        "outputId": "a58da20c-1130-4d37-82fd-85d00a43ae63"
      },
      "outputs": [],
      "source": [
        "x1 = torch.rand((2,5))\n",
        "x2 = torch.rand((2,5))\n",
        "print(torch.cat((x1,x2) , dim=0).shape) # join in x dimension 0\n",
        "print(torch.cat((x1,x2) , dim=1).shape) # join in x dimension 1"
      ]
    },
    {
      "cell_type": "code",
      "execution_count": null,
      "metadata": {
        "colab": {
          "base_uri": "https://localhost:8080/"
        },
        "id": "mCE8IxtC4GAv",
        "outputId": "015e9495-7682-492d-e0ea-9b576bf75696"
      },
      "outputs": [],
      "source": [
        "z = x1.reshape(-1)\n",
        "print(z.shape)"
      ]
    },
    {
      "cell_type": "code",
      "execution_count": null,
      "metadata": {
        "colab": {
          "base_uri": "https://localhost:8080/"
        },
        "id": "_cDukMHZ4QT_",
        "outputId": "d2a6c4b8-6e89-4d92-ee03-95dfd5a01f36"
      },
      "outputs": [],
      "source": [
        "batch = 64\n",
        "x = torch.rand((batch , 2, 5))\n",
        "\n",
        "z = x.view(batch , -1)\n",
        "print(z.shape)"
      ]
    },
    {
      "cell_type": "code",
      "execution_count": null,
      "metadata": {
        "colab": {
          "base_uri": "https://localhost:8080/"
        },
        "id": "ftQEYonY4QQk",
        "outputId": "5559f18d-1a68-43e3-e19f-d92c5b0846a2"
      },
      "outputs": [],
      "source": [
        "z = x.permute(0 , 2 , 1)\n",
        "# permutate the dimensions of tensor\n",
        "print(z.shape)"
      ]
    },
    {
      "cell_type": "code",
      "execution_count": null,
      "metadata": {
        "colab": {
          "base_uri": "https://localhost:8080/"
        },
        "id": "DOfT2McG4QNG",
        "outputId": "42a88c00-bff8-4aa3-f9ca-386bb241b12a"
      },
      "outputs": [],
      "source": [
        "x = torch.arange(10)\n",
        "\n",
        "print(x.unsqueeze(0).shape)\n",
        "print(x.unsqueeze(1).shape)\n"
      ]
    },
    {
      "cell_type": "code",
      "execution_count": null,
      "metadata": {
        "colab": {
          "base_uri": "https://localhost:8080/"
        },
        "id": "gf4gAtnh4QJ1",
        "outputId": "1e9f9aab-ed1d-4062-d3cc-a4def958dc80"
      },
      "outputs": [],
      "source": [
        "x = torch.arange(10).unsqueeze(1).unsqueeze(0)\n",
        "# [10] -> [10, 1] -> [1, 10, 1]\n",
        "print(x.shape)"
      ]
    },
    {
      "cell_type": "code",
      "execution_count": null,
      "metadata": {
        "colab": {
          "base_uri": "https://localhost:8080/"
        },
        "id": "PaJXP4jR5evl",
        "outputId": "923a8d82-c663-47a6-be16-eec96934a1a9"
      },
      "outputs": [],
      "source": [
        "x = torch.arange(10).unsqueeze(0).unsqueeze(1)\n",
        "# [10] -> [1, 10] -> [1, 1, 10]\n",
        "print(x.shape)"
      ]
    },
    {
      "cell_type": "code",
      "execution_count": null,
      "metadata": {
        "colab": {
          "base_uri": "https://localhost:8080/"
        },
        "id": "uzwEdPHN5wgN",
        "outputId": "714de081-23de-4d87-c661-f17daf59e073"
      },
      "outputs": [],
      "source": [
        "z = x.squeeze(1)\n",
        "print(z.shape)"
      ]
    },
    {
      "cell_type": "markdown",
      "metadata": {
        "id": "aVbQhRnlruqj"
      },
      "source": [
        "# **Importing the libraries**\n"
      ]
    },
    {
      "cell_type": "code",
      "execution_count": null,
      "metadata": {
        "id": "Bqi8pY0WrDdR"
      },
      "outputs": [],
      "source": [
        "import torch\n",
        "import torch.nn as nn\n",
        "import torch.optim as optim\n",
        "import torch.nn.functional as F\n",
        "from torch.utils.data import DataLoader\n",
        "import torchvision.datasets as datasets\n",
        "import torchvision.transforms as transforms\n",
        "from tqdm import tqdm"
      ]
    },
    {
      "cell_type": "markdown",
      "metadata": {
        "id": "bMfeq6OluTBM"
      },
      "source": [
        "# **Knowing our Dataset**"
      ]
    },
    {
      "cell_type": "code",
      "execution_count": null,
      "metadata": {
        "colab": {
          "base_uri": "https://localhost:8080/"
        },
        "id": "0uTVZS6juSke",
        "outputId": "684b21a3-b880-4f64-b88c-7e9a88d7ff55"
      },
      "outputs": [],
      "source": [
        "mnist_trainset = datasets.MNIST(root='./data', train=True, download=True, transform=None)"
      ]
    },
    {
      "cell_type": "code",
      "execution_count": null,
      "metadata": {
        "colab": {
          "base_uri": "https://localhost:8080/"
        },
        "id": "3qGNleR5udsy",
        "outputId": "4fae9afd-6f6e-4879-9110-7832600c480e"
      },
      "outputs": [],
      "source": [
        "len(mnist_trainset)"
      ]
    },
    {
      "cell_type": "code",
      "execution_count": null,
      "metadata": {
        "id": "PgJRiX-9ujmJ"
      },
      "outputs": [],
      "source": [
        "train_image, train_target = mnist_trainset[0]"
      ]
    },
    {
      "cell_type": "code",
      "execution_count": null,
      "metadata": {
        "colab": {
          "base_uri": "https://localhost:8080/",
          "height": 45
        },
        "id": "8sPHUoPGul3V",
        "outputId": "379088b7-fffa-40d1-8f47-b6b959a57a21"
      },
      "outputs": [],
      "source": [
        "train_image\n"
      ]
    },
    {
      "cell_type": "code",
      "execution_count": null,
      "metadata": {
        "colab": {
          "base_uri": "https://localhost:8080/"
        },
        "id": "HwESfwf1upAI",
        "outputId": "50bec355-8049-483d-ab70-7b7c48f0d9f7"
      },
      "outputs": [],
      "source": [
        "print(train_target)"
      ]
    },
    {
      "cell_type": "code",
      "execution_count": null,
      "metadata": {
        "colab": {
          "base_uri": "https://localhost:8080/"
        },
        "id": "ikWOcdld5hOy",
        "outputId": "bf4b8307-807e-4996-a5cc-3a341aa30045"
      },
      "outputs": [],
      "source": [
        "# number of classes of dataset\n",
        "mnist_trainset.classes"
      ]
    },
    {
      "cell_type": "markdown",
      "metadata": {
        "id": "6uIIMAgY4xzf"
      },
      "source": [
        "# **Hyperparameters**\n",
        "\n",
        "\n"
      ]
    },
    {
      "cell_type": "code",
      "execution_count": null,
      "metadata": {
        "id": "NVluDKtD4w6N"
      },
      "outputs": [],
      "source": [
        "input_size = 784  # 28X28\n",
        "num_classes = 10  # dataset has 10 classes\n",
        "learning_rate = 0.001\n",
        "batch_size = 64\n",
        "num_epochs = 10"
      ]
    },
    {
      "cell_type": "code",
      "execution_count": null,
      "metadata": {
        "colab": {
          "base_uri": "https://localhost:8080/"
        },
        "id": "q8UcxYp544ka",
        "outputId": "ffda42ed-f73b-45f1-dc85-19e1febf4ccb"
      },
      "outputs": [],
      "source": [
        "device = torch.device('cuda' if torch.cuda.is_available() else 'cpu')\n",
        "print(f\"Using device {device}\")"
      ]
    },
    {
      "cell_type": "markdown",
      "metadata": {
        "id": "AySiZeQhr0pG"
      },
      "source": [
        "# **Loading the data**"
      ]
    },
    {
      "cell_type": "code",
      "execution_count": null,
      "metadata": {
        "colab": {
          "base_uri": "https://localhost:8080/"
        },
        "id": "UfPFkaiur08I",
        "outputId": "fdc573b1-e5d1-48fe-9b53-23976a585565"
      },
      "outputs": [],
      "source": [
        "# Load data\n",
        "\n",
        "train_dataset = datasets.MNIST(root='datasets/' , train=True, transform=transforms.ToTensor(), download=True)\n",
        "train_loader = DataLoader(dataset=train_dataset, batch_size=batch_size, shuffle=True)\n",
        "\n",
        "test_dataset = datasets.MNIST(root='datasets/' , train=False, transform=transforms.ToTensor(), download=True)\n",
        "test_loader = DataLoader(dataset=test_dataset, batch_size=batch_size, shuffle=True)"
      ]
    },
    {
      "cell_type": "markdown",
      "metadata": {
        "id": "dZkM1Ym9QMf3"
      },
      "source": [
        "# **Neural Network**"
      ]
    },
    {
      "cell_type": "markdown",
      "metadata": {
        "id": "ldQbBeyOrTO8"
      },
      "source": [
        "## **A basic Artificial neural network will be in a form of**\n",
        "\n",
        "**Input layer –** To get the data from the user or a client or a server to analyze and give the result.\n",
        "\n",
        "**Hidden layers –** This layer can be in any number and these layers will analyze the inputs with passing through them with different biases, weights, and activation functions to provide an output\n",
        "\n",
        "**Output Layer –** This is where we can get the result from a neural network."
      ]
    },
    {
      "cell_type": "markdown",
      "metadata": {
        "id": "mkiUshLpyxAI"
      },
      "source": [
        "![image.png](data:image/png;base64,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)"
      ]
    },
    {
      "cell_type": "markdown",
      "metadata": {
        "id": "EWiB6Vdesgo_"
      },
      "source": [
        "## **Building a model**\n",
        "\n",
        "Some of the features that determine the quality of our neural network are:\n",
        "\n",
        "\n",
        "\n",
        "1.   Layers\n",
        "2.   Activation function\n",
        "\n",
        "1.   Loss function\n",
        "2.   Optimizer\n",
        "\n",
        "\n",
        "\n",
        "\n"
      ]
    },
    {
      "cell_type": "markdown",
      "metadata": {
        "id": "Ysq-_zFntfFp"
      },
      "source": [
        "## **Activation function**\n",
        "Activation functions are simply mathematical methods that bring all the values inside a range of 0 to 1 so that it will be very easier for the machine to learn the data in its process of analyzing the data. There are a variety of activation functions that are supported by the Tensor flow. Some of the commonly used functions are,\n",
        "\n",
        "* Sigmoid\n",
        "\n",
        "* Relu\n",
        "\n",
        "* Softmax\n",
        "\n",
        "* Swish\n",
        "\n",
        "* Linear"
      ]
    },
    {
      "cell_type": "markdown",
      "metadata": {
        "id": "JkcsFncwt6lz"
      },
      "source": [
        "## **Losses**\n",
        "Loss functions are a very important thing to notice while creating a neural network because loss functions in the neural network will calculate the difference between the predicted output and the actual result and greatly help the optimizers in the neural nets to update the weights on its backpropagation.\n",
        "\n",
        "There are many loss functions that were supported by the Pytorch library, and again commonly used few are,\n",
        "\n",
        "* Mean Absolute\n",
        "\n",
        "* MeanSquaredError\n",
        "\n",
        "* Binary Crossentropy\n",
        "* Categorical Crossentropy\n",
        "* Sparse Categorical Crossentropy"
      ]
    },
    {
      "cell_type": "markdown",
      "metadata": {
        "id": "tRYgc17at6yA"
      },
      "source": [
        "## **Optimizers**\n",
        "Optimizers are a very important thing because this is the function that helps the neural network to change the weights on the backpropagation so that the difference between the actual and predicted result will decrease at a gradual pace and obtain that point where the loss is very minimum and the model is able to predict more accurate results.\n",
        "\n",
        "Again Pytorch supports many optimizers to mention a few,\n",
        "\n",
        "* Gradient descent\n",
        "* SDG – Stochastic Gradient Descent\n",
        "* Adagrad\n",
        "* Adam"
      ]
    },
    {
      "cell_type": "code",
      "execution_count": null,
      "metadata": {
        "id": "TwRqu3vPsg0g"
      },
      "outputs": [],
      "source": [
        "# Creating the model\n",
        "class NN(nn.Module):\n",
        "    def __init__(self, input_size, num_classes):\n",
        "        super(NN, self).__init__()\n",
        "        self.fc1 = nn.Linear(input_size, 50)\n",
        "        self.fc2 = nn.Linear(50, num_classes)\n",
        "\n",
        "    def forward(self, x):\n",
        "        x = F.relu(self.fc1(x))\n",
        "        x = self.fc2(x)\n",
        "        return x\n"
      ]
    },
    {
      "cell_type": "code",
      "execution_count": null,
      "metadata": {
        "id": "4PYFqLsBpyR3"
      },
      "outputs": [],
      "source": [
        "# Initialize Network\n",
        "\n",
        "model = NN(input_size=input_size, num_classes=num_classes).to(device)"
      ]
    },
    {
      "cell_type": "code",
      "execution_count": null,
      "metadata": {
        "id": "Iov3xi-Cp0fP"
      },
      "outputs": [],
      "source": [
        "# Loss and Optimizer\n",
        "\n",
        "critetion = nn.CrossEntropyLoss()\n",
        "optimizer = optim.Adam(model.parameters() , lr=learning_rate)"
      ]
    },
    {
      "cell_type": "code",
      "execution_count": null,
      "metadata": {
        "colab": {
          "base_uri": "https://localhost:8080/"
        },
        "id": "rEpUzDoGp2yW",
        "outputId": "12f9adcb-25fb-4458-b88e-04af76b81174"
      },
      "outputs": [],
      "source": [
        "# Train Network\n",
        "\n",
        "for epoch in range(num_epochs):\n",
        "\n",
        "    progress_bar = tqdm(train_loader, desc=f\"Epoch {epoch+1}/{num_epochs}\", leave=True)\n",
        "    for batch_idx, (data, targets) in enumerate(progress_bar):\n",
        "        # Get data to cuda if possible\n",
        "        data = data.to(device=device)\n",
        "        targets = targets.to(device=device)\n",
        "\n",
        "        # Get to correct shape\n",
        "        data = data.reshape(data.shape[0], -1)\n",
        "\n",
        "        # forward prop\n",
        "        scores = model(data)\n",
        "\n",
        "        # calculate loss\n",
        "        loss = critetion(scores, targets)\n",
        "\n",
        "        # backward prop\n",
        "        optimizer.zero_grad()\n",
        "        loss.backward()\n",
        "\n",
        "        # gradient descent or adam step\n",
        "        optimizer.step()"
      ]
    },
    {
      "cell_type": "markdown",
      "metadata": {
        "id": "ZTmqUOi8rvmP"
      },
      "source": [
        "## **Evaluating the model**"
      ]
    },
    {
      "cell_type": "code",
      "execution_count": null,
      "metadata": {
        "id": "CNcBCwFSshKl"
      },
      "outputs": [],
      "source": [
        "# Check accuracy on training & test to see how good our model\n",
        "\n",
        "def check_accuracy(loader, model):\n",
        "    if loader.dataset.train:\n",
        "        print(\"Checking accuracy on training data\")\n",
        "    else:\n",
        "        print(\"Checking accuracy on test data\")\n",
        "\n",
        "    num_correct = 0\n",
        "    num_samples = 0\n",
        "\n",
        "    model.eval()\n",
        "\n",
        "    with torch.no_grad():\n",
        "        for x, y in loader:\n",
        "            x = x.to(device=device)\n",
        "            y = y.to(device=device)\n",
        "\n",
        "            x = x.reshape(x.shape[0], -1)\n",
        "\n",
        "            scores = model(x)\n",
        "            _, predictions = scores.max(1)\n",
        "\n",
        "            num_correct += (predictions == y).sum()\n",
        "            num_samples += predictions.size(0)\n",
        "\n",
        "        print(f'Got {num_correct} / {num_samples} with accuracy {float(num_correct)/float(num_samples)*100:.2f}')\n",
        "\n",
        "    model.train()"
      ]
    },
    {
      "cell_type": "code",
      "execution_count": null,
      "metadata": {
        "colab": {
          "base_uri": "https://localhost:8080/"
        },
        "id": "1eLe3S6rqODw",
        "outputId": "073fefff-c2c3-4d68-9099-55226f989cc7"
      },
      "outputs": [],
      "source": [
        "# Evaluating the model\n",
        "check_accuracy(train_loader, model)\n",
        "check_accuracy(test_loader, model)"
      ]
    },
    {
      "cell_type": "markdown",
      "metadata": {
        "id": "HjvI7lVEMifk"
      },
      "source": [
        "## **Saving and Loading Model**"
      ]
    },
    {
      "cell_type": "code",
      "execution_count": null,
      "metadata": {
        "id": "7rcdG1W865oU"
      },
      "outputs": [],
      "source": [
        "def save_checkpoint(state , filename=\"my_checkpoint.pth.tar\"):\n",
        "    print(\"=> Saving Checkpoint\")\n",
        "    torch.save(state , filename)\n"
      ]
    },
    {
      "cell_type": "code",
      "execution_count": null,
      "metadata": {
        "id": "cV77DUsHMnlh"
      },
      "outputs": [],
      "source": [
        "def load_checkpoint(checkpoint):\n",
        "    model.load_state_dict(checkpoint[\"state_dict\"])\n",
        "    optimizer.load_state_dict(checkpoint[\"optimizer\"])"
      ]
    },
    {
      "cell_type": "markdown",
      "metadata": {
        "id": "_iW7VcTz1v5N"
      },
      "source": [
        "# **Improving the model**\n",
        "\n",
        "Model complexity can be increased by increasing the number of nidden layers, which makes it less prone to underfitting.<br>\n",
        "Regularization can be introduced to overcome overfitting of the model."
      ]
    },
    {
      "cell_type": "code",
      "execution_count": null,
      "metadata": {
        "id": "GVmS2pFAKqCh"
      },
      "outputs": [],
      "source": [
        "class NN_better(nn.Module):\n",
        "    def __init__(self, input_size, num_classes):\n",
        "        super().__init__()\n",
        "        self.linear_relu_stack = nn.Sequential(\n",
        "            nn.Linear(input_size, 512),\n",
        "            nn.ReLU(),\n",
        "            nn.Linear(512, 512),\n",
        "            nn.ReLU(),\n",
        "            nn.Linear(512, 100),\n",
        "            nn.ReLU(),\n",
        "            nn.Linear(100, num_classes),\n",
        "        )\n",
        "\n",
        "    def forward(self, x):\n",
        "        logits = self.linear_relu_stack(x)\n",
        "        return logits"
      ]
    },
    {
      "cell_type": "code",
      "execution_count": null,
      "metadata": {
        "colab": {
          "base_uri": "https://localhost:8080/"
        },
        "id": "L5o4Pcy42LQY",
        "outputId": "722da1cb-d371-4acb-91b1-f3c6f130ab1c"
      },
      "outputs": [],
      "source": [
        "model = NN_better(input_size=input_size, num_classes=num_classes).to(device)\n",
        "print(model)\n"
      ]
    },
    {
      "cell_type": "code",
      "execution_count": null,
      "metadata": {
        "id": "9-vP-lsVLOx2"
      },
      "outputs": [],
      "source": [
        "optimizer = optim.Adam(model.parameters() , lr=learning_rate, weight_decay=0.001)\n",
        "# This weight decay is for L2 regularization"
      ]
    },
    {
      "cell_type": "code",
      "execution_count": null,
      "metadata": {
        "colab": {
          "base_uri": "https://localhost:8080/"
        },
        "id": "nqvA_8DE2cC_",
        "outputId": "3317be47-3d04-4adf-f9ee-14a884dedf1e"
      },
      "outputs": [],
      "source": [
        "# Train Network again with regularization\n",
        "\n",
        "for epoch in range(num_epochs):\n",
        "\n",
        "    # saving model\n",
        "    # if (epoch+1)%2 == 0:\n",
        "    #     checkpoint = {'state_dict': model.state_dict(), 'optimizer': optimizer.state_dict()}\n",
        "    #     save_checkpoint(checkpoint)\n",
        "\n",
        "    progress_bar = tqdm(train_loader, desc=f\"Epoch {epoch+1}/{num_epochs}\", leave=True)\n",
        "    for batch_idx, (data, targets) in enumerate(progress_bar):\n",
        "        # Get data to cuda if possible\n",
        "        data = data.to(device=device)\n",
        "        targets = targets.to(device=device)\n",
        "\n",
        "        # Get to correct shape\n",
        "        data = data.reshape(data.shape[0], -1)\n",
        "\n",
        "        # forward prop\n",
        "        scores = model(data)\n",
        "\n",
        "        # calculate loss\n",
        "        loss = critetion(scores, targets)\n",
        "\n",
        "        # backward prop\n",
        "        optimizer.zero_grad()\n",
        "        loss.backward()\n",
        "\n",
        "        # gradient descent or adam step\n",
        "        optimizer.step()"
      ]
    },
    {
      "cell_type": "code",
      "execution_count": null,
      "metadata": {
        "colab": {
          "base_uri": "https://localhost:8080/"
        },
        "id": "iEB-0a3IwmIR",
        "outputId": "3bcdd61b-175b-4d5f-8e45-38ce956f3e5a"
      },
      "outputs": [],
      "source": [
        "# Evaluating the model With Regularization\n",
        "check_accuracy(train_loader, model)\n",
        "check_accuracy(test_loader, model)"
      ]
    },
    {
      "cell_type": "markdown",
      "metadata": {
        "id": "nk3P5uLi78yJ"
      },
      "source": [
        "# **Modify Preloaded Model**"
      ]
    },
    {
      "cell_type": "code",
      "execution_count": null,
      "metadata": {
        "colab": {
          "base_uri": "https://localhost:8080/"
        },
        "id": "OxNfem4I7-7S",
        "outputId": "65ed8798-3cbd-4c5c-cfd7-98d9bd2ca3d3"
      },
      "outputs": [],
      "source": [
        "#  Load Model and Modify it\n",
        "import torchvision\n",
        "model = torchvision.models.vgg16(pretrained=True).to(device)\n",
        "print(model)"
      ]
    },
    {
      "cell_type": "code",
      "execution_count": null,
      "metadata": {
        "id": "4lacIGncOoEF"
      },
      "outputs": [],
      "source": [
        "# do nothing\n",
        "class Identity(nn.Module):\n",
        "    def __init__(self):\n",
        "        super(Identity, self).__init__()\n",
        "\n",
        "    def foward(self, x):\n",
        "        return x"
      ]
    },
    {
      "cell_type": "code",
      "execution_count": null,
      "metadata": {
        "id": "jh6lWgBLOvVp"
      },
      "outputs": [],
      "source": [
        "# freeze all the layers so that their weights does not change during training\n",
        "for param in model.parameters():\n",
        "    param.requires_grad = False"
      ]
    },
    {
      "cell_type": "code",
      "execution_count": null,
      "metadata": {
        "colab": {
          "base_uri": "https://localhost:8080/"
        },
        "id": "dMs-0anEOzHS",
        "outputId": "e24ab997-3176-4d4f-9401-e6a93e6c94c1"
      },
      "outputs": [],
      "source": [
        "model.avgpool = Identity()\n",
        "\n",
        "model.classifier = nn.Sequential(nn.Linear(512, 100),\n",
        "                                    nn.ReLU(),\n",
        "                                    nn.Linear(100, 10))\n",
        "print(model)\n",
        "\n",
        "# we can change specific layer of classifier using\n",
        "# model.classifier[6] = nn.Linear(4096, 10)"
      ]
    },
    {
      "cell_type": "markdown",
      "metadata": {
        "id": "Bo8uatPjO_Xs"
      },
      "source": [
        "**Now only last layers will train and other layers will be freezed**"
      ]
    },
    {
      "cell_type": "markdown",
      "metadata": {
        "id": "RIKtpmmY8Udn"
      },
      "source": [
        "# **Creating a Custom Dataset for your files**\n",
        "\n",
        "A custom Dataset class must implement three functions: \\_\\_init__, \\_\\_len__, and \\_\\_getitem__. Take a look at this implementation; the images are stored in a directory , and their labels are stored separately in a CSV file."
      ]
    },
    {
      "cell_type": "code",
      "execution_count": null,
      "metadata": {
        "id": "R6XNh8of8qD9"
      },
      "outputs": [],
      "source": [
        "import torch\n",
        "import torch.nn as nn\n",
        "import torch.optim as optim\n",
        "import torchvision.transforms as transforms\n",
        "import torchvision\n",
        "from torch.utils.data import Dataset, DataLoader\n",
        "import os\n",
        "from skimage import io\n",
        "import pandas as pd"
      ]
    },
    {
      "cell_type": "code",
      "execution_count": null,
      "metadata": {
        "colab": {
          "base_uri": "https://localhost:8080/"
        },
        "id": "-ubd2SYk-EwG",
        "outputId": "5ca558fb-f599-4aa8-a1a0-36bf49dbf267"
      },
      "outputs": [],
      "source": [
        "from google.colab import drive\n",
        "drive.mount('/content/drive')"
      ]
    },
    {
      "cell_type": "code",
      "execution_count": null,
      "metadata": {
        "id": "KCLkqBIq8UGg"
      },
      "outputs": [],
      "source": [
        "# Load Dataset from custom data\n",
        "\n",
        "# data labels is in csv file\n",
        "\n",
        "class CatsandDogsDataset(Dataset):\n",
        "    def __init__(self, csv_file, root_dir, transform=None):\n",
        "        self.annotations = pd.read_csv(csv_file)\n",
        "        self.root_dir = root_dir\n",
        "        self.transform = transform\n",
        "\n",
        "    def __len__(self):\n",
        "        return len(self.annotations)\n",
        "\n",
        "    def __getitem__(self, index):\n",
        "        img_path = os.join(self.root_dir, self.annotation.iloc[index,0])\n",
        "        image = io.imreadd(img_path)\n",
        "        y_label =torch.tensor(int(self.annotation.iloc[index,1]))\n",
        "\n",
        "        if self.transform:\n",
        "            image = self.transform(image)\n",
        "\n",
        "        return (image, y_label)\n",
        "\n"
      ]
    },
    {
      "cell_type": "code",
      "execution_count": null,
      "metadata": {
        "colab": {
          "base_uri": "https://localhost:8080/",
          "height": 419
        },
        "id": "lx6R-xE18TSa",
        "outputId": "194154ab-db2d-44ca-f449-987ab6e9d8cd"
      },
      "outputs": [],
      "source": [
        "# Load Data\n",
        "Dataset = CatsandDogsDataset(csv_file='/content/drive/MyDrive/CATS_AND_DOGS/cats_dogs.csv', root_dir='/content/drive/MyDrive/CATS_AND_DOGS/cats_dogs_resized', transform=transforms.ToTensor())\n",
        "\n",
        "# Split Data\n",
        "custom_train_set, custom_test_set = torch.utils.data.random_split(Dataset, [8, 2])\n",
        "\n",
        "custom_train_loader = DataLoader(dataset=custom_train_set, batch_size=32, shuffle=True)\n",
        "custom_test_loader = DataLoader(dataset=custom_test_set, batch_size=32, shuffle=True)\n"
      ]
    }
  ],
  "metadata": {
    "accelerator": "GPU",
    "colab": {
      "collapsed_sections": [
        "9mLgGac7xxMn"
      ],
      "gpuType": "T4",
      "provenance": []
    },
    "kernelspec": {
      "display_name": "Python 3",
      "name": "python3"
    },
    "language_info": {
      "name": "python"
    }
  },
  "nbformat": 4,
  "nbformat_minor": 0
}
